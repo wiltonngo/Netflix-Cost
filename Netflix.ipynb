{
 "cells": [
  {
   "cell_type": "markdown",
   "id": "80caa072-b664-40a9-b717-d32d1c9071f9",
   "metadata": {
    "tags": []
   },
   "source": [
    "## Import Libraies"
   ]
  },
  {
   "cell_type": "code",
   "execution_count": 59,
   "id": "f8ec9855-d987-44f9-9979-5513b5d0a3a5",
   "metadata": {
    "collapsed": true,
    "jupyter": {
     "outputs_hidden": true
    },
    "tags": []
   },
   "outputs": [
    {
     "ename": "ModuleNotFoundError",
     "evalue": "No module named 'plotly'",
     "output_type": "error",
     "traceback": [
      "\u001b[0;31m---------------------------------------------------------------------------\u001b[0m",
      "\u001b[0;31mModuleNotFoundError\u001b[0m                       Traceback (most recent call last)",
      "\u001b[0;32m/var/folders/g4/v6r_lmjx5vg3q0hl2k3vlbzc0000gn/T/ipykernel_5380/193193813.py\u001b[0m in \u001b[0;36m<module>\u001b[0;34m\u001b[0m\n\u001b[1;32m      3\u001b[0m \u001b[0;32mimport\u001b[0m \u001b[0mos\u001b[0m\u001b[0;34m\u001b[0m\u001b[0;34m\u001b[0m\u001b[0m\n\u001b[1;32m      4\u001b[0m \u001b[0;32mimport\u001b[0m \u001b[0mmatplotlib\u001b[0m\u001b[0;34m.\u001b[0m\u001b[0mpyplot\u001b[0m \u001b[0;32mas\u001b[0m \u001b[0mplt\u001b[0m\u001b[0;34m\u001b[0m\u001b[0;34m\u001b[0m\u001b[0m\n\u001b[0;32m----> 5\u001b[0;31m \u001b[0;32mimport\u001b[0m \u001b[0mplotly\u001b[0m\u001b[0;34m.\u001b[0m\u001b[0mexpress\u001b[0m \u001b[0;32mas\u001b[0m \u001b[0mpx\u001b[0m\u001b[0;34m\u001b[0m\u001b[0;34m\u001b[0m\u001b[0m\n\u001b[0m",
      "\u001b[0;31mModuleNotFoundError\u001b[0m: No module named 'plotly'"
     ]
    }
   ],
   "source": [
    "import pandas as pd\n",
    "import numpy as np\n",
    "import os\n",
    "import matplotlib.pyplot as plt\n"
   ]
  },
  {
   "cell_type": "markdown",
   "id": "5d2fc587-11f9-4dd5-9694-e43059e1fbe8",
   "metadata": {},
   "source": [
    "### Load and Check Data"
   ]
  },
  {
   "cell_type": "code",
   "execution_count": 19,
   "id": "104f3c98-91c0-47b4-9968-f13c641d6c13",
   "metadata": {},
   "outputs": [
    {
     "data": {
      "text/html": [
       "<div>\n",
       "<style scoped>\n",
       "    .dataframe tbody tr th:only-of-type {\n",
       "        vertical-align: middle;\n",
       "    }\n",
       "\n",
       "    .dataframe tbody tr th {\n",
       "        vertical-align: top;\n",
       "    }\n",
       "\n",
       "    .dataframe thead th {\n",
       "        text-align: right;\n",
       "    }\n",
       "</style>\n",
       "<table border=\"1\" class=\"dataframe\">\n",
       "  <thead>\n",
       "    <tr style=\"text-align: right;\">\n",
       "      <th></th>\n",
       "      <th>Country_code</th>\n",
       "      <th>Country</th>\n",
       "      <th>Total Library Size</th>\n",
       "      <th>No. of TV Shows</th>\n",
       "      <th>No. of Movies</th>\n",
       "      <th>Cost Per Month - Basic ($)</th>\n",
       "      <th>Cost Per Month - Standard ($)</th>\n",
       "      <th>Cost Per Month - Premium ($)</th>\n",
       "    </tr>\n",
       "  </thead>\n",
       "  <tbody>\n",
       "    <tr>\n",
       "      <th>0</th>\n",
       "      <td>ar</td>\n",
       "      <td>Argentina</td>\n",
       "      <td>4760</td>\n",
       "      <td>3154</td>\n",
       "      <td>1606</td>\n",
       "      <td>3.74</td>\n",
       "      <td>6.30</td>\n",
       "      <td>9.26</td>\n",
       "    </tr>\n",
       "    <tr>\n",
       "      <th>1</th>\n",
       "      <td>au</td>\n",
       "      <td>Australia</td>\n",
       "      <td>6114</td>\n",
       "      <td>4050</td>\n",
       "      <td>2064</td>\n",
       "      <td>7.84</td>\n",
       "      <td>12.12</td>\n",
       "      <td>16.39</td>\n",
       "    </tr>\n",
       "    <tr>\n",
       "      <th>2</th>\n",
       "      <td>at</td>\n",
       "      <td>Austria</td>\n",
       "      <td>5640</td>\n",
       "      <td>3779</td>\n",
       "      <td>1861</td>\n",
       "      <td>9.03</td>\n",
       "      <td>14.67</td>\n",
       "      <td>20.32</td>\n",
       "    </tr>\n",
       "    <tr>\n",
       "      <th>3</th>\n",
       "      <td>be</td>\n",
       "      <td>Belgium</td>\n",
       "      <td>4990</td>\n",
       "      <td>3374</td>\n",
       "      <td>1616</td>\n",
       "      <td>10.16</td>\n",
       "      <td>15.24</td>\n",
       "      <td>20.32</td>\n",
       "    </tr>\n",
       "    <tr>\n",
       "      <th>4</th>\n",
       "      <td>bo</td>\n",
       "      <td>Bolivia</td>\n",
       "      <td>4991</td>\n",
       "      <td>3155</td>\n",
       "      <td>1836</td>\n",
       "      <td>7.99</td>\n",
       "      <td>10.99</td>\n",
       "      <td>13.99</td>\n",
       "    </tr>\n",
       "  </tbody>\n",
       "</table>\n",
       "</div>"
      ],
      "text/plain": [
       "  Country_code    Country  Total Library Size  No. of TV Shows  No. of Movies  \\\n",
       "0           ar  Argentina                4760             3154           1606   \n",
       "1           au  Australia                6114             4050           2064   \n",
       "2           at    Austria                5640             3779           1861   \n",
       "3           be    Belgium                4990             3374           1616   \n",
       "4           bo    Bolivia                4991             3155           1836   \n",
       "\n",
       "   Cost Per Month - Basic ($)  Cost Per Month - Standard ($)  \\\n",
       "0                        3.74                           6.30   \n",
       "1                        7.84                          12.12   \n",
       "2                        9.03                          14.67   \n",
       "3                       10.16                          15.24   \n",
       "4                        7.99                          10.99   \n",
       "\n",
       "   Cost Per Month - Premium ($)  \n",
       "0                          9.26  \n",
       "1                         16.39  \n",
       "2                         20.32  \n",
       "3                         20.32  \n",
       "4                         13.99  "
      ]
     },
     "execution_count": 19,
     "metadata": {},
     "output_type": "execute_result"
    }
   ],
   "source": [
    "df = pd.read_csv('/Users/wiltonngo/Downloads/Netflix/netflix price in different countries.csv')\n",
    "files = [file for file in os.listdir('/Users/wiltonngo/Downloads/Netflix')]\n",
    "netflix_data = pd.DataFrame() \n",
    "\n",
    "\n",
    "for file in files:\n",
    "   df = pd.read_csv(\"/Users/wiltonngo/Downloads/Netflix/\"+file)\n",
    "   netflix_data = pd.concat([netflix_data,df])\n",
    "\n",
    "netflix_data.head()\n",
    "    \n"
   ]
  },
  {
   "cell_type": "markdown",
   "id": "97851d95-be38-4b54-804c-de8e26465e88",
   "metadata": {},
   "source": [
    "### Missing Value"
   ]
  },
  {
   "cell_type": "code",
   "execution_count": 21,
   "id": "77fe0214-46d5-43b9-9862-366085c9af77",
   "metadata": {},
   "outputs": [
    {
     "data": {
      "text/plain": [
       "Index([], dtype='object')"
      ]
     },
     "execution_count": 21,
     "metadata": {},
     "output_type": "execute_result"
    }
   ],
   "source": [
    "df.columns[df.isnull().any()]"
   ]
  },
  {
   "cell_type": "code",
   "execution_count": 22,
   "id": "a53dd6a2-c10e-4e3a-b5e0-7322304476f2",
   "metadata": {},
   "outputs": [
    {
     "data": {
      "text/plain": [
       "Country                          0\n",
       "Total Library Size               0\n",
       "No. of TV Shows                  0\n",
       "No. of Movies                    0\n",
       "Cost Per Month - Basic ($)       0\n",
       "Cost Per Month - Standard ($)    0\n",
       "Cost Per Month - Premium ($)     0\n",
       "dtype: int64"
      ]
     },
     "execution_count": 22,
     "metadata": {},
     "output_type": "execute_result"
    }
   ],
   "source": [
    "df.isnull().sum()"
   ]
  },
  {
   "cell_type": "code",
   "execution_count": 23,
   "id": "ca9fc78b-8753-46d0-86f3-1d581ac50e9f",
   "metadata": {},
   "outputs": [
    {
     "data": {
      "text/plain": [
       "array(['Argentina', 'Austria', 'Bolivia', 'Bulgaria', 'Chile', 'Colombia',\n",
       "       'Costa Rica', 'Croatia', 'Czechia', 'Ecuador', 'Estonia', 'France',\n",
       "       'Germany', 'Gibraltar', 'Greece', 'Guatemala', 'Honduras',\n",
       "       'Hong Kong', 'Iceland', 'India', 'Israel', 'Italy', 'Japan',\n",
       "       'Liechtenstein', 'Malaysia', 'Mexico', 'Moldova', 'Monaco',\n",
       "       'Norway', 'Paraguay', 'Peru', 'Philippines', 'Poland', 'Romania',\n",
       "       'Russia', 'San Marino', 'Slovakia', 'South Africa', 'South Korea',\n",
       "       'Taiwan', 'Thailand', 'Turkey', 'Ukraine', 'Uruguay', 'Venezuela',\n",
       "       'Belgium', 'Singapore', 'Finland', 'Latvia', 'New Zealand',\n",
       "       'Hungary', 'Portugal', 'Netherlands', 'Sweden', 'Canada',\n",
       "       'Lithuania', 'Spain', 'United Kingdom', 'Indonesia', 'Brazil',\n",
       "       'Ireland', 'Switzerland', 'Australia', 'Denmark', 'United States'],\n",
       "      dtype=object)"
      ]
     },
     "execution_count": 23,
     "metadata": {},
     "output_type": "execute_result"
    }
   ],
   "source": [
    "df.Country.unique()"
   ]
  },
  {
   "cell_type": "markdown",
   "id": "9e88847a-450a-4db0-8d1b-941fee46e146",
   "metadata": {},
   "source": [
    "### Which Country has the most expensive Neflix Suscription Fee packages(Basic)"
   ]
  },
  {
   "cell_type": "code",
   "execution_count": 26,
   "id": "6033fb70-410d-4fd9-9ffe-50487d3e9eb4",
   "metadata": {},
   "outputs": [
    {
     "data": {
      "text/html": [
       "<div>\n",
       "<style scoped>\n",
       "    .dataframe tbody tr th:only-of-type {\n",
       "        vertical-align: middle;\n",
       "    }\n",
       "\n",
       "    .dataframe tbody tr th {\n",
       "        vertical-align: top;\n",
       "    }\n",
       "\n",
       "    .dataframe thead th {\n",
       "        text-align: right;\n",
       "    }\n",
       "</style>\n",
       "<table border=\"1\" class=\"dataframe\">\n",
       "  <thead>\n",
       "    <tr style=\"text-align: right;\">\n",
       "      <th></th>\n",
       "      <th>Country</th>\n",
       "      <th>Total Library Size</th>\n",
       "      <th>No. of TV Shows</th>\n",
       "      <th>No. of Movies</th>\n",
       "      <th>Cost Per Month - Basic ($)</th>\n",
       "      <th>Cost Per Month - Standard ($)</th>\n",
       "      <th>Cost Per Month - Premium ($)</th>\n",
       "    </tr>\n",
       "  </thead>\n",
       "  <tbody>\n",
       "    <tr>\n",
       "      <th>61</th>\n",
       "      <td>Switzerland</td>\n",
       "      <td>5506</td>\n",
       "      <td>3654</td>\n",
       "      <td>1852</td>\n",
       "      <td>12.88</td>\n",
       "      <td>20.46</td>\n",
       "      <td>26.96</td>\n",
       "    </tr>\n",
       "    <tr>\n",
       "      <th>23</th>\n",
       "      <td>Liechtenstein</td>\n",
       "      <td>3048</td>\n",
       "      <td>1712</td>\n",
       "      <td>1336</td>\n",
       "      <td>12.88</td>\n",
       "      <td>20.46</td>\n",
       "      <td>26.96</td>\n",
       "    </tr>\n",
       "    <tr>\n",
       "      <th>63</th>\n",
       "      <td>Denmark</td>\n",
       "      <td>4558</td>\n",
       "      <td>2978</td>\n",
       "      <td>1580</td>\n",
       "      <td>12.00</td>\n",
       "      <td>15.04</td>\n",
       "      <td>19.60</td>\n",
       "    </tr>\n",
       "    <tr>\n",
       "      <th>53</th>\n",
       "      <td>Sweden</td>\n",
       "      <td>4361</td>\n",
       "      <td>2973</td>\n",
       "      <td>1388</td>\n",
       "      <td>10.90</td>\n",
       "      <td>14.20</td>\n",
       "      <td>19.70</td>\n",
       "    </tr>\n",
       "    <tr>\n",
       "      <th>20</th>\n",
       "      <td>Israel</td>\n",
       "      <td>5713</td>\n",
       "      <td>3650</td>\n",
       "      <td>2063</td>\n",
       "      <td>10.56</td>\n",
       "      <td>15.05</td>\n",
       "      <td>19.54</td>\n",
       "    </tr>\n",
       "  </tbody>\n",
       "</table>\n",
       "</div>"
      ],
      "text/plain": [
       "          Country  Total Library Size  No. of TV Shows  No. of Movies  \\\n",
       "61    Switzerland                5506             3654           1852   \n",
       "23  Liechtenstein                3048             1712           1336   \n",
       "63        Denmark                4558             2978           1580   \n",
       "53         Sweden                4361             2973           1388   \n",
       "20         Israel                5713             3650           2063   \n",
       "\n",
       "    Cost Per Month - Basic ($)  Cost Per Month - Standard ($)  \\\n",
       "61                       12.88                          20.46   \n",
       "23                       12.88                          20.46   \n",
       "63                       12.00                          15.04   \n",
       "53                       10.90                          14.20   \n",
       "20                       10.56                          15.05   \n",
       "\n",
       "    Cost Per Month - Premium ($)  \n",
       "61                         26.96  \n",
       "23                         26.96  \n",
       "63                         19.60  \n",
       "53                         19.70  \n",
       "20                         19.54  "
      ]
     },
     "execution_count": 26,
     "metadata": {},
     "output_type": "execute_result"
    }
   ],
   "source": [
    "basic= df.sort_values(by='Cost Per Month - Basic ($)', ascending=False)\n",
    "basic.head()"
   ]
  },
  {
   "cell_type": "markdown",
   "id": "7a4f9739-0c91-408b-99a0-966903740d54",
   "metadata": {},
   "source": [
    "### Which country has the most expensive Netflix Suscription Fee Packages(Standard)"
   ]
  },
  {
   "cell_type": "code",
   "execution_count": null,
   "id": "a351edcb-6818-49fd-afb1-61fcab1681ef",
   "metadata": {},
   "outputs": [
    {
     "data": {
      "text/html": [
       "<div>\n",
       "<style scoped>\n",
       "    .dataframe tbody tr th:only-of-type {\n",
       "        vertical-align: middle;\n",
       "    }\n",
       "\n",
       "    .dataframe tbody tr th {\n",
       "        vertical-align: top;\n",
       "    }\n",
       "\n",
       "    .dataframe thead th {\n",
       "        text-align: right;\n",
       "    }\n",
       "</style>\n",
       "<table border=\"1\" class=\"dataframe\">\n",
       "  <thead>\n",
       "    <tr style=\"text-align: right;\">\n",
       "      <th></th>\n",
       "      <th>Country</th>\n",
       "      <th>Total Library Size</th>\n",
       "      <th>No. of TV Shows</th>\n",
       "      <th>No. of Movies</th>\n",
       "      <th>Cost Per Month - Basic ($)</th>\n",
       "      <th>Cost Per Month - Standard ($)</th>\n",
       "      <th>Cost Per Month - Premium ($)</th>\n",
       "    </tr>\n",
       "  </thead>\n",
       "  <tbody>\n",
       "    <tr>\n",
       "      <th>61</th>\n",
       "      <td>Switzerland</td>\n",
       "      <td>5506</td>\n",
       "      <td>3654</td>\n",
       "      <td>1852</td>\n",
       "      <td>12.88</td>\n",
       "      <td>20.46</td>\n",
       "      <td>26.96</td>\n",
       "    </tr>\n",
       "    <tr>\n",
       "      <th>23</th>\n",
       "      <td>Liechtenstein</td>\n",
       "      <td>3048</td>\n",
       "      <td>1712</td>\n",
       "      <td>1336</td>\n",
       "      <td>12.88</td>\n",
       "      <td>20.46</td>\n",
       "      <td>26.96</td>\n",
       "    </tr>\n",
       "    <tr>\n",
       "      <th>45</th>\n",
       "      <td>Belgium</td>\n",
       "      <td>4990</td>\n",
       "      <td>3374</td>\n",
       "      <td>1616</td>\n",
       "      <td>10.16</td>\n",
       "      <td>15.24</td>\n",
       "      <td>20.32</td>\n",
       "    </tr>\n",
       "    <tr>\n",
       "      <th>11</th>\n",
       "      <td>France</td>\n",
       "      <td>5445</td>\n",
       "      <td>3604</td>\n",
       "      <td>1841</td>\n",
       "      <td>10.16</td>\n",
       "      <td>15.24</td>\n",
       "      <td>20.32</td>\n",
       "    </tr>\n",
       "    <tr>\n",
       "      <th>20</th>\n",
       "      <td>Israel</td>\n",
       "      <td>5713</td>\n",
       "      <td>3650</td>\n",
       "      <td>2063</td>\n",
       "      <td>10.56</td>\n",
       "      <td>15.05</td>\n",
       "      <td>19.54</td>\n",
       "    </tr>\n",
       "  </tbody>\n",
       "</table>\n",
       "</div>"
      ],
      "text/plain": [
       "          Country  Total Library Size  No. of TV Shows  No. of Movies  \\\n",
       "61    Switzerland                5506             3654           1852   \n",
       "23  Liechtenstein                3048             1712           1336   \n",
       "45        Belgium                4990             3374           1616   \n",
       "11         France                5445             3604           1841   \n",
       "20         Israel                5713             3650           2063   \n",
       "\n",
       "    Cost Per Month - Basic ($)  Cost Per Month - Standard ($)  \\\n",
       "61                       12.88                          20.46   \n",
       "23                       12.88                          20.46   \n",
       "45                       10.16                          15.24   \n",
       "11                       10.16                          15.24   \n",
       "20                       10.56                          15.05   \n",
       "\n",
       "    Cost Per Month - Premium ($)  \n",
       "61                         26.96  \n",
       "23                         26.96  \n",
       "45                         20.32  \n",
       "11                         20.32  \n",
       "20                         19.54  "
      ]
     },
     "execution_count": 27,
     "metadata": {},
     "output_type": "execute_result"
    }
   ],
   "source": [
    "standard = df.sort_values(by='Cost Per Month - Standard ($)', ascending=False)\n",
    "standard.head()"
   ]
  },
  {
   "cell_type": "markdown",
   "id": "e0e4c1df-f80b-462c-b683-6c2a2dae0759",
   "metadata": {},
   "source": [
    "### Which country has the most expensive Netflix Suscription Fee Packages(Premium)"
   ]
  },
  {
   "cell_type": "code",
   "execution_count": 29,
   "id": "aae4395b-9131-46ea-a0b4-8483f36c21d6",
   "metadata": {},
   "outputs": [
    {
     "data": {
      "text/html": [
       "<div>\n",
       "<style scoped>\n",
       "    .dataframe tbody tr th:only-of-type {\n",
       "        vertical-align: middle;\n",
       "    }\n",
       "\n",
       "    .dataframe tbody tr th {\n",
       "        vertical-align: top;\n",
       "    }\n",
       "\n",
       "    .dataframe thead th {\n",
       "        text-align: right;\n",
       "    }\n",
       "</style>\n",
       "<table border=\"1\" class=\"dataframe\">\n",
       "  <thead>\n",
       "    <tr style=\"text-align: right;\">\n",
       "      <th></th>\n",
       "      <th>Country</th>\n",
       "      <th>Total Library Size</th>\n",
       "      <th>No. of TV Shows</th>\n",
       "      <th>No. of Movies</th>\n",
       "      <th>Cost Per Month - Basic ($)</th>\n",
       "      <th>Cost Per Month - Standard ($)</th>\n",
       "      <th>Cost Per Month - Premium ($)</th>\n",
       "    </tr>\n",
       "  </thead>\n",
       "  <tbody>\n",
       "    <tr>\n",
       "      <th>23</th>\n",
       "      <td>Liechtenstein</td>\n",
       "      <td>3048</td>\n",
       "      <td>1712</td>\n",
       "      <td>1336</td>\n",
       "      <td>12.88</td>\n",
       "      <td>20.46</td>\n",
       "      <td>26.96</td>\n",
       "    </tr>\n",
       "    <tr>\n",
       "      <th>61</th>\n",
       "      <td>Switzerland</td>\n",
       "      <td>5506</td>\n",
       "      <td>3654</td>\n",
       "      <td>1852</td>\n",
       "      <td>12.88</td>\n",
       "      <td>20.46</td>\n",
       "      <td>26.96</td>\n",
       "    </tr>\n",
       "    <tr>\n",
       "      <th>18</th>\n",
       "      <td>Iceland</td>\n",
       "      <td>6387</td>\n",
       "      <td>4426</td>\n",
       "      <td>1961</td>\n",
       "      <td>9.03</td>\n",
       "      <td>14.67</td>\n",
       "      <td>20.32</td>\n",
       "    </tr>\n",
       "    <tr>\n",
       "      <th>1</th>\n",
       "      <td>Austria</td>\n",
       "      <td>5640</td>\n",
       "      <td>3779</td>\n",
       "      <td>1861</td>\n",
       "      <td>9.03</td>\n",
       "      <td>14.67</td>\n",
       "      <td>20.32</td>\n",
       "    </tr>\n",
       "    <tr>\n",
       "      <th>21</th>\n",
       "      <td>Italy</td>\n",
       "      <td>5183</td>\n",
       "      <td>3545</td>\n",
       "      <td>1638</td>\n",
       "      <td>9.03</td>\n",
       "      <td>14.67</td>\n",
       "      <td>20.32</td>\n",
       "    </tr>\n",
       "  </tbody>\n",
       "</table>\n",
       "</div>"
      ],
      "text/plain": [
       "          Country  Total Library Size  No. of TV Shows  No. of Movies  \\\n",
       "23  Liechtenstein                3048             1712           1336   \n",
       "61    Switzerland                5506             3654           1852   \n",
       "18        Iceland                6387             4426           1961   \n",
       "1         Austria                5640             3779           1861   \n",
       "21          Italy                5183             3545           1638   \n",
       "\n",
       "    Cost Per Month - Basic ($)  Cost Per Month - Standard ($)  \\\n",
       "23                       12.88                          20.46   \n",
       "61                       12.88                          20.46   \n",
       "18                        9.03                          14.67   \n",
       "1                         9.03                          14.67   \n",
       "21                        9.03                          14.67   \n",
       "\n",
       "    Cost Per Month - Premium ($)  \n",
       "23                         26.96  \n",
       "61                         26.96  \n",
       "18                         20.32  \n",
       "1                          20.32  \n",
       "21                         20.32  "
      ]
     },
     "execution_count": 29,
     "metadata": {},
     "output_type": "execute_result"
    }
   ],
   "source": [
    "Premium = df.sort_values(by='Cost Per Month - Premium ($)', ascending=False)\n",
    "Premium.head()"
   ]
  },
  {
   "cell_type": "markdown",
   "id": "92c67baa-bdf0-4f2a-8f2e-4b422b5df567",
   "metadata": {},
   "source": [
    "### Exporting to CSV"
   ]
  },
  {
   "cell_type": "code",
   "execution_count": 61,
   "id": "6184f02d-4567-4576-bd03-27f74d870e1e",
   "metadata": {
    "tags": []
   },
   "outputs": [],
   "source": [
    "df.to_csv('Finish.csv',index=False)"
   ]
  },
  {
   "cell_type": "code",
   "execution_count": null,
   "id": "55ecd9e7-32b4-479b-b3c3-51d8d3b44889",
   "metadata": {},
   "outputs": [],
   "source": []
  }
 ],
 "metadata": {
  "kernelspec": {
   "display_name": "Python 3 (ipykernel)",
   "language": "python",
   "name": "python3"
  },
  "language_info": {
   "codemirror_mode": {
    "name": "ipython",
    "version": 3
   },
   "file_extension": ".py",
   "mimetype": "text/x-python",
   "name": "python",
   "nbconvert_exporter": "python",
   "pygments_lexer": "ipython3",
   "version": "3.9.7"
  }
 },
 "nbformat": 4,
 "nbformat_minor": 5
}
